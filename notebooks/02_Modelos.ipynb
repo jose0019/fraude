{
 "cells": [
  {
   "cell_type": "markdown",
   "id": "87a2a34e",
   "metadata": {},
   "source": [
    "# CUNEF MUCD 2022/2023"
   ]
  },
  {
   "cell_type": "markdown",
   "id": "0ab15a39",
   "metadata": {},
   "source": [
    "## Autor: Jose Antonio Nazar"
   ]
  },
  {
   "cell_type": "code",
   "execution_count": 1,
   "id": "56f7f8ce",
   "metadata": {},
   "outputs": [
    {
     "name": "stderr",
     "output_type": "stream",
     "text": [
      "C:\\Users\\Jose\\anaconda3\\envs\\aprendizaje\\lib\\site-packages\\xgboost\\compat.py:36: FutureWarning: pandas.Int64Index is deprecated and will be removed from pandas in a future version. Use pandas.Index with the appropriate dtype instead.\n",
      "  from pandas import MultiIndex, Int64Index\n"
     ]
    }
   ],
   "source": [
    "#Libraries\n",
    "import pandas as pd\n",
    "import numpy as np\n",
    "import matplotlib.pyplot as plt\n",
    "\n",
    "from sklearn.ensemble import RandomForestClassifier\n",
    "from sklearn.linear_model import Lasso, LogisticRegression\n",
    "from xgboost import XGBClassifier\n",
    "import lightgbm as lgb\n",
    "from sklearn import svm\n",
    "import statsmodels.api as sm\n",
    "from catboost import CatBoostClassifier\n",
    "from sklearn.ensemble import AdaBoostClassifier\n",
    "from sklearn.linear_model import LinearRegression\n",
    "\n",
    "from sklearn.metrics import classification_report, confusion_matrix, roc_curve, auc, \\\n",
    "                            silhouette_score, recall_score, precision_score, make_scorer, \\\n",
    "                            roc_auc_score, f1_score, precision_recall_curve\n",
    "from sklearn.metrics import ConfusionMatrixDisplay\n",
    "from sklearn.dummy import DummyClassifier \n",
    "from sklearn.pipeline import Pipeline\n",
    "from imblearn.pipeline import Pipeline\n",
    "import pickle\n",
    "from sklearn.metrics import mean_squared_error\n",
    "import warnings\n",
    "warnings.filterwarnings('ignore')\n",
    "from sklearn.metrics import accuracy_score, log_loss\n",
    "from sklearn.linear_model import LogisticRegressionCV\n",
    "from sklearn.svm import SVC, LinearSVC, NuSVC\n",
    "from sklearn.metrics import fbeta_score\n",
    "\n",
    "from aux_func import cargar_modelo\n",
    "from aux_func import evaluate_model\n",
    "from imblearn.over_sampling import SMOTE\n"
   ]
  },
  {
   "cell_type": "code",
   "execution_count": 2,
   "id": "a10cf3d6",
   "metadata": {},
   "outputs": [],
   "source": [
    "#Read data\n",
    "xtrain = pd.read_parquet(\"./datos/xtrain.parquet\")\n",
    "ytrain = pd.read_parquet(\"./datos/ytrain.parquet\")\n",
    "xtest = pd.read_parquet(\"./datos/xtest.parquet\")\n",
    "ytest = pd.read_parquet(\"./datos/ytest.parquet\")"
   ]
  },
  {
   "cell_type": "code",
   "execution_count": 3,
   "id": "562b5ae5",
   "metadata": {},
   "outputs": [],
   "source": [
    "#Load preprocessor\n",
    "preprocessor = cargar_modelo('./datos/preprocessor.pickle')"
   ]
  },
  {
   "cell_type": "markdown",
   "id": "b2e6fcba",
   "metadata": {},
   "source": [
    "### Modelos\n",
    "\n",
    "- Base\n",
    "- Regresión logística y Lasso\n",
    "- Random Forest\n",
    "- XGBoost\n",
    "- LightGBM\n",
    "- SVM\n",
    "- Ada Boost\n"
   ]
  },
  {
   "cell_type": "markdown",
   "id": "e2b0cf8b",
   "metadata": {},
   "source": [
    "Tras observar nuestro problema vemos que los datos están desbalanceados por lo que probarémos a usar en algunos modelos un oversample de la clase minoritaria mediante el algoritmo SMOTE. En función de los resultados optaré o no por usar el SMOTE en el resto de modelos"
   ]
  },
  {
   "cell_type": "markdown",
   "id": "786a2e65",
   "metadata": {},
   "source": [
    "## Modelo Base"
   ]
  },
  {
   "cell_type": "code",
   "execution_count": 4,
   "id": "38ccb734",
   "metadata": {},
   "outputs": [],
   "source": [
    "modelo_base = Pipeline(steps=[\n",
    "    ('preprocesador', preprocessor),\n",
    "    ('clasificador', DummyClassifier(strategy='most_frequent', random_state=0))])"
   ]
  },
  {
   "cell_type": "code",
   "execution_count": 5,
   "id": "0d4080d4",
   "metadata": {},
   "outputs": [],
   "source": [
    "#Training\n",
    "#modelo_base.fit(xtrain, ytrain)"
   ]
  },
  {
   "cell_type": "code",
   "execution_count": 6,
   "id": "ba61202b",
   "metadata": {},
   "outputs": [],
   "source": [
    "#Keep model with pickle\n",
    "#with open('C:/Users/Jose/Documents/1-CUNEF/cuatri 1/aprendizaje automatico/fraudulentos/datos/modelo_base.pickle', 'wb') as f:\n",
    "    #pickle.dump(modelo_base, f)"
   ]
  },
  {
   "cell_type": "code",
   "execution_count": 7,
   "id": "d8348320",
   "metadata": {},
   "outputs": [],
   "source": [
    "#Skip fit and run from this cell\n",
    "with open('./datos/modelo_base.pickle', 'rb') as f:\n",
    "    modelo_base = pickle.load(f)"
   ]
  },
  {
   "cell_type": "code",
   "execution_count": 8,
   "id": "8382b031",
   "metadata": {},
   "outputs": [
    {
     "name": "stdout",
     "output_type": "stream",
     "text": [
      "ROC-AUC score of the model: 0.5\n",
      "Accuracy of the model: 0.9989128102424719\n",
      "\n",
      "Classification report: \n",
      "              precision    recall  f1-score   support\n",
      "\n",
      "           0       1.00      1.00      1.00    209487\n",
      "           1       0.00      0.00      0.00       228\n",
      "\n",
      "    accuracy                           1.00    209715\n",
      "   macro avg       0.50      0.50      0.50    209715\n",
      "weighted avg       1.00      1.00      1.00    209715\n",
      "\n",
      "\n",
      "Confusion matrix: \n",
      "[[209487      0]\n",
      " [   228      0]]\n",
      "\n"
     ]
    }
   ],
   "source": [
    "#predictions\n",
    "ypred = modelo_base.predict(xtest)\n",
    "ypred_prob = modelo_base.predict_proba(xtest)\n",
    "evaluate_model(ytest,ypred,ypred_prob)"
   ]
  },
  {
   "cell_type": "code",
   "execution_count": 9,
   "id": "3a4d87c0",
   "metadata": {},
   "outputs": [
    {
     "data": {
      "text/plain": [
       "0.49989118638340757"
      ]
     },
     "execution_count": 9,
     "metadata": {},
     "output_type": "execute_result"
    }
   ],
   "source": [
    "#F2 score\n",
    "fbeta_score(ytest, ypred, beta=2, average='macro')"
   ]
  },
  {
   "cell_type": "markdown",
   "id": "5ce096ce",
   "metadata": {},
   "source": [
    "## Modelo Regresión logistica y lasso"
   ]
  },
  {
   "cell_type": "code",
   "execution_count": 10,
   "id": "ce6059e0",
   "metadata": {},
   "outputs": [],
   "source": [
    "clf = Pipeline(steps=[\n",
    "    ('preprocesador', preprocessor), \n",
    "    ('clasificador', LogisticRegression(C=1.5,random_state=0, n_jobs=2, penalty='l1', solver='liblinear', tol= 0.0005))])"
   ]
  },
  {
   "cell_type": "code",
   "execution_count": 11,
   "id": "6e63e87f",
   "metadata": {},
   "outputs": [],
   "source": [
    "#Training\n",
    "#clf.fit(xtrain, ytrain)"
   ]
  },
  {
   "cell_type": "code",
   "execution_count": 12,
   "id": "4ca76c1c",
   "metadata": {},
   "outputs": [],
   "source": [
    "#Keep model with pickle\n",
    "#with open('C:/Users/Jose/Documents/1-CUNEF/cuatri 1/aprendizaje automatico/fraudulentos/datos/Lasso.pickle', 'wb') as f:\n",
    "    #pickle.dump(clf, f)"
   ]
  },
  {
   "cell_type": "code",
   "execution_count": 13,
   "id": "b8363b74",
   "metadata": {},
   "outputs": [],
   "source": [
    "#Skip fit and run from this cell\n",
    "with open('./datos/Lasso.pickle', 'rb') as f:\n",
    "    clf = pickle.load(f)"
   ]
  },
  {
   "cell_type": "code",
   "execution_count": 14,
   "id": "2c3760df",
   "metadata": {},
   "outputs": [
    {
     "name": "stdout",
     "output_type": "stream",
     "text": [
      "ROC-AUC score of the model: 0.9763121213651493\n",
      "Accuracy of the model: 0.9992847435805736\n",
      "\n",
      "Classification report: \n",
      "              precision    recall  f1-score   support\n",
      "\n",
      "           0       1.00      1.00      1.00    209487\n",
      "           1       0.91      0.38      0.54       228\n",
      "\n",
      "    accuracy                           1.00    209715\n",
      "   macro avg       0.95      0.69      0.77    209715\n",
      "weighted avg       1.00      1.00      1.00    209715\n",
      "\n",
      "\n",
      "Confusion matrix: \n",
      "[[209478      9]\n",
      " [   141     87]]\n",
      "\n"
     ]
    }
   ],
   "source": [
    "#predictions\n",
    "ypred = clf.predict(xtest)\n",
    "ypred_prob = clf.predict_proba(xtest)\n",
    "evaluate_model(ytest, ypred, ypred_prob)"
   ]
  },
  {
   "cell_type": "code",
   "execution_count": 15,
   "id": "059ea737",
   "metadata": {},
   "outputs": [
    {
     "name": "stdout",
     "output_type": "stream",
     "text": [
      "Best Threshold=0.001520, G-Mean=0.936\n",
      "ROC-AUC score of the model: 0.9763121213651493\n",
      "Accuracy of the model: 0.929256371742603\n",
      "\n",
      "Classification report: \n",
      "              precision    recall  f1-score   support\n",
      "\n",
      "           0       1.00      0.93      0.96    209487\n",
      "           1       0.01      0.94      0.03       228\n",
      "\n",
      "    accuracy                           0.93    209715\n",
      "   macro avg       0.51      0.93      0.50    209715\n",
      "weighted avg       1.00      0.93      0.96    209715\n",
      "\n",
      "\n",
      "Confusion matrix: \n",
      "[[194665  14822]\n",
      " [    14    214]]\n",
      "\n"
     ]
    }
   ],
   "source": [
    "#threshold adjust\n",
    "\n",
    "# keep probabilities for the positive outcome only\n",
    "yhat = ypred_prob[:, 1]\n",
    "# calculate roc curves\n",
    "fpr, tpr, thresholds = roc_curve(ytest, yhat)\n",
    "\n",
    "gmeans = np.sqrt(tpr * (1-fpr))\n",
    "# locate the index of the largest g-mean\n",
    "ix = np.argmax(gmeans)\n",
    "print('Best Threshold=%f, G-Mean=%.3f' % (thresholds[ix], gmeans[ix]))\n",
    "\n",
    "ypred_new_threshold = (ypred_prob[:,1]>thresholds[ix]).astype(int)\n",
    "evaluate_model(ytest,ypred_new_threshold,ypred_prob)"
   ]
  },
  {
   "cell_type": "code",
   "execution_count": 16,
   "id": "52e40bd9",
   "metadata": {},
   "outputs": [
    {
     "data": {
      "text/plain": [
       "0.7156893280538892"
      ]
     },
     "execution_count": 16,
     "metadata": {},
     "output_type": "execute_result"
    }
   ],
   "source": [
    "#F2 score\n",
    "fbeta_score(ytest, ypred, beta=2, average='macro')"
   ]
  },
  {
   "cell_type": "markdown",
   "id": "ecef0c1f",
   "metadata": {},
   "source": [
    "**Modelo Regresión Logística y Lasso con SMOTE**"
   ]
  },
  {
   "cell_type": "code",
   "execution_count": 17,
   "id": "b0f2dd78",
   "metadata": {},
   "outputs": [],
   "source": [
    "clf_S = Pipeline(steps=[\n",
    "    ('preprocesador', preprocessor),\n",
    "    ('smote', SMOTE(sampling_strategy='auto')),\n",
    "    ('clasificador', LogisticRegression(C=1.5,random_state=0, penalty='l1', solver='liblinear', tol= 0.0005))])"
   ]
  },
  {
   "cell_type": "code",
   "execution_count": 18,
   "id": "63a9edb0",
   "metadata": {},
   "outputs": [],
   "source": [
    "#Training\n",
    "#clf_S.fit(xtrain, ytrain)"
   ]
  },
  {
   "cell_type": "code",
   "execution_count": 19,
   "id": "34a5e0a2",
   "metadata": {},
   "outputs": [],
   "source": [
    "#keep model with pickle\n",
    "#with open('./datos/LassoSMOTE.pickle', 'wb') as f:\n",
    "    #pickle.dump(clf_S, f)"
   ]
  },
  {
   "cell_type": "code",
   "execution_count": 20,
   "id": "7d435fd6",
   "metadata": {},
   "outputs": [],
   "source": [
    "#Skip fit and run from this cell\n",
    "with open('./datos/LassoSMOTE.pickle', 'rb') as f:\n",
    "    clf_S = pickle.load(f)"
   ]
  },
  {
   "cell_type": "code",
   "execution_count": 21,
   "id": "00471fc6",
   "metadata": {},
   "outputs": [
    {
     "name": "stdout",
     "output_type": "stream",
     "text": [
      "ROC-AUC score of the model: 0.9810568574409717\n",
      "Accuracy of the model: 0.9490499010561954\n",
      "\n",
      "Classification report: \n",
      "              precision    recall  f1-score   support\n",
      "\n",
      "           0       1.00      0.95      0.97    209487\n",
      "           1       0.02      0.94      0.04       228\n",
      "\n",
      "    accuracy                           0.95    209715\n",
      "   macro avg       0.51      0.95      0.51    209715\n",
      "weighted avg       1.00      0.95      0.97    209715\n",
      "\n",
      "\n",
      "Confusion matrix: \n",
      "[[198815  10672]\n",
      " [    13    215]]\n",
      "\n"
     ]
    }
   ],
   "source": [
    "#predictions\n",
    "ypred = clf_S.predict(xtest)\n",
    "ypred_prob = clf_S.predict_proba(xtest)\n",
    "evaluate_model(ytest, ypred, ypred_prob)"
   ]
  },
  {
   "cell_type": "code",
   "execution_count": 22,
   "id": "824d447c",
   "metadata": {},
   "outputs": [
    {
     "name": "stdout",
     "output_type": "stream",
     "text": [
      "Best Threshold=0.528625, G-Mean=0.949\n",
      "ROC-AUC score of the model: 0.9810568574409717\n",
      "Accuracy of the model: 0.9547147318980521\n",
      "\n",
      "Classification report: \n",
      "              precision    recall  f1-score   support\n",
      "\n",
      "           0       1.00      0.95      0.98    209487\n",
      "           1       0.02      0.94      0.04       228\n",
      "\n",
      "    accuracy                           0.95    209715\n",
      "   macro avg       0.51      0.95      0.51    209715\n",
      "weighted avg       1.00      0.95      0.98    209715\n",
      "\n",
      "\n",
      "Confusion matrix: \n",
      "[[200004   9483]\n",
      " [    14    214]]\n",
      "\n"
     ]
    }
   ],
   "source": [
    "#threshold adjust\n",
    "\n",
    "# keep probabilities for the positive outcome only\n",
    "yhat = ypred_prob[:, 1]\n",
    "# calculate roc curves\n",
    "fpr, tpr, thresholds = roc_curve(ytest, yhat)\n",
    "\n",
    "gmeans = np.sqrt(tpr * (1-fpr))\n",
    "# locate the index of the largest g-mean\n",
    "ix = np.argmax(gmeans)\n",
    "print('Best Threshold=%f, G-Mean=%.3f' % (thresholds[ix], gmeans[ix]))\n",
    "\n",
    "ypred_new_threshold = (ypred_prob[:,1]>thresholds[ix]).astype(int)\n",
    "evaluate_model(ytest,ypred_new_threshold,ypred_prob)"
   ]
  },
  {
   "cell_type": "code",
   "execution_count": 23,
   "id": "5ff8f9c2",
   "metadata": {},
   "outputs": [
    {
     "data": {
      "text/plain": [
       "0.5249615422892426"
      ]
     },
     "execution_count": 23,
     "metadata": {},
     "output_type": "execute_result"
    }
   ],
   "source": [
    "#F2 score\n",
    "fbeta_score(ytest, ypred, beta=2, average='macro')"
   ]
  },
  {
   "cell_type": "markdown",
   "id": "bc531b5c",
   "metadata": {},
   "source": [
    "Vemos que los resultados son muy parecidos en el modelo con y sin SMOTE, incluso siendo un poco peores con con el SMOTE por lo que probarémos con otros modelos"
   ]
  },
  {
   "cell_type": "markdown",
   "id": "ff95adce",
   "metadata": {},
   "source": [
    "## Random Forest"
   ]
  },
  {
   "cell_type": "code",
   "execution_count": 24,
   "id": "2895ba90",
   "metadata": {},
   "outputs": [],
   "source": [
    "clf_1 = Pipeline(steps=[\n",
    "    ('preprocesador', preprocessor), \n",
    "    ('clasificador', RandomForestClassifier(n_jobs=-1, random_state=0))])"
   ]
  },
  {
   "cell_type": "code",
   "execution_count": 25,
   "id": "07ffccf1",
   "metadata": {},
   "outputs": [],
   "source": [
    "#Training\n",
    "#clf_1.fit(xtrain, ytrain)"
   ]
  },
  {
   "cell_type": "code",
   "execution_count": 26,
   "id": "63b298ad",
   "metadata": {},
   "outputs": [],
   "source": [
    "#keep model with pickle\n",
    "#with open('./datos/Randomforest.pickle', 'wb') as f:\n",
    "    #pickle.dump(clf_1, f)"
   ]
  },
  {
   "cell_type": "code",
   "execution_count": 27,
   "id": "e2a4987a",
   "metadata": {},
   "outputs": [],
   "source": [
    "#Skip fit and run from this cell\n",
    "with open('./datos/RandomForest.pickle', 'rb') as f:\n",
    "    clf_1 = pickle.load(f)"
   ]
  },
  {
   "cell_type": "code",
   "execution_count": 28,
   "id": "88a55adb",
   "metadata": {},
   "outputs": [
    {
     "name": "stdout",
     "output_type": "stream",
     "text": [
      "ROC-AUC score of the model: 0.9955077185629491\n",
      "Accuracy of the model: 0.9999475478625754\n",
      "\n",
      "Classification report: \n",
      "              precision    recall  f1-score   support\n",
      "\n",
      "           0       1.00      1.00      1.00    209487\n",
      "           1       1.00      0.96      0.98       228\n",
      "\n",
      "    accuracy                           1.00    209715\n",
      "   macro avg       1.00      0.98      0.99    209715\n",
      "weighted avg       1.00      1.00      1.00    209715\n",
      "\n",
      "\n",
      "Confusion matrix: \n",
      "[[209486      1]\n",
      " [    10    218]]\n",
      "\n"
     ]
    }
   ],
   "source": [
    "#predictions\n",
    "ypred = clf_1.predict(xtest)\n",
    "ypred_prob = clf_1.predict_proba(xtest)\n",
    "evaluate_model(ytest,ypred,ypred_prob)"
   ]
  },
  {
   "cell_type": "code",
   "execution_count": 29,
   "id": "eca42308",
   "metadata": {},
   "outputs": [
    {
     "name": "stdout",
     "output_type": "stream",
     "text": [
      "Best Threshold=0.090000, G-Mean=0.991\n",
      "ROC-AUC score of the model: 0.9955077185629491\n",
      "Accuracy of the model: 0.9998760222206328\n",
      "\n",
      "Classification report: \n",
      "              precision    recall  f1-score   support\n",
      "\n",
      "           0       1.00      1.00      1.00    209487\n",
      "           1       0.91      0.98      0.94       228\n",
      "\n",
      "    accuracy                           1.00    209715\n",
      "   macro avg       0.96      0.99      0.97    209715\n",
      "weighted avg       1.00      1.00      1.00    209715\n",
      "\n",
      "\n",
      "Confusion matrix: \n",
      "[[209466     21]\n",
      " [     5    223]]\n",
      "\n"
     ]
    }
   ],
   "source": [
    "#threshold adjust\n",
    "\n",
    "# keep probabilities for the positive outcome only\n",
    "yhat = ypred_prob[:, 1]\n",
    "# calculate roc curves\n",
    "fpr, tpr, thresholds = roc_curve(ytest, yhat)\n",
    "\n",
    "gmeans = np.sqrt(tpr * (1-fpr))\n",
    "# locate the index of the largest g-mean\n",
    "ix = np.argmax(gmeans)\n",
    "print('Best Threshold=%f, G-Mean=%.3f' % (thresholds[ix], gmeans[ix]))\n",
    "\n",
    "ypred_new_threshold = (ypred_prob[:,1]>thresholds[ix]).astype(int)\n",
    "evaluate_model(ytest,ypred_new_threshold,ypred_prob)"
   ]
  },
  {
   "cell_type": "code",
   "execution_count": 30,
   "id": "8c3f2884",
   "metadata": {},
   "outputs": [
    {
     "data": {
      "text/plain": [
       "0.9818677644568494"
      ]
     },
     "execution_count": 30,
     "metadata": {},
     "output_type": "execute_result"
    }
   ],
   "source": [
    "#F2 score\n",
    "fbeta_score(ytest, ypred, beta=2, average='macro')"
   ]
  },
  {
   "cell_type": "code",
   "execution_count": 31,
   "id": "3757556a",
   "metadata": {},
   "outputs": [
    {
     "name": "stdout",
     "output_type": "stream",
     "text": [
      "Best Threshold=0.020000, G-Mean=0.991\n",
      "ROC-AUC score of the model: 0.9927850989400407\n",
      "Accuracy of the model: 0.9990344038337744\n",
      "\n",
      "Classification report: \n",
      "              precision    recall  f1-score   support\n",
      "\n",
      "           0       1.00      1.00      1.00    837946\n",
      "           1       0.53      0.98      0.69       914\n",
      "\n",
      "    accuracy                           1.00    838860\n",
      "   macro avg       0.77      0.99      0.84    838860\n",
      "weighted avg       1.00      1.00      1.00    838860\n",
      "\n",
      "\n",
      "Confusion matrix: \n",
      "[[837154    792]\n",
      " [    18    896]]\n",
      "\n"
     ]
    }
   ],
   "source": [
    "#check the overfiting\n",
    "ypred = clf_1.predict(xtrain)\n",
    "ypred_prob = clf_1.predict_proba(xtrain)\n",
    "\n",
    "# keep probabilities for the positive outcome only\n",
    "yhat = ypred_prob[:, 1]\n",
    "# calculate roc curves\n",
    "fpr, tpr, thresholds = roc_curve(ytrain, yhat)\n",
    "\n",
    "gmeans = np.sqrt(tpr * (1-fpr))\n",
    "# locate the index of the largest g-mean\n",
    "ix = np.argmax(gmeans)\n",
    "print('Best Threshold=%f, G-Mean=%.3f' % (thresholds[ix], gmeans[ix]))\n",
    "\n",
    "ypred_new_threshold = (ypred_prob[:,1]>thresholds[ix]).astype(int)\n",
    "evaluate_model(ytrain,ypred_new_threshold,ypred_prob)"
   ]
  },
  {
   "cell_type": "markdown",
   "id": "0da309aa",
   "metadata": {},
   "source": [
    "podemos ver un cambio muy significativo por lo que el modelo no generaliza bien"
   ]
  },
  {
   "cell_type": "markdown",
   "id": "be41416c",
   "metadata": {},
   "source": [
    "**Modelo Randomforest con SMOTE**"
   ]
  },
  {
   "cell_type": "code",
   "execution_count": 32,
   "id": "5a449e71",
   "metadata": {},
   "outputs": [],
   "source": [
    "clf_1_S = Pipeline(steps=[\n",
    "    ('preprocesador', preprocessor),\n",
    "    ('smote', SMOTE(sampling_strategy='auto', n_jobs=-1)),\n",
    "    ('clasificador', RandomForestClassifier(n_jobs=-1, random_state=0))])"
   ]
  },
  {
   "cell_type": "code",
   "execution_count": 33,
   "id": "3d725f47",
   "metadata": {},
   "outputs": [],
   "source": [
    "#Training\n",
    "#clf_1_S.fit(xtrain, ytrain)"
   ]
  },
  {
   "cell_type": "code",
   "execution_count": 34,
   "id": "8c93a747",
   "metadata": {},
   "outputs": [],
   "source": [
    "#keep model with pickle\n",
    "#with open('./datos/RandomForestSMOTE.pickle', 'wb') as f:\n",
    "    #pickle.dump(clf_1_S, f)"
   ]
  },
  {
   "cell_type": "code",
   "execution_count": 35,
   "id": "002661ea",
   "metadata": {},
   "outputs": [],
   "source": [
    "#Skip fit and run from this cell\n",
    "with open('./datos/RandomForestSMOTE.pickle', 'rb') as f:\n",
    "    clf_1_S = pickle.load(f)"
   ]
  },
  {
   "cell_type": "code",
   "execution_count": 36,
   "id": "320ca898",
   "metadata": {},
   "outputs": [
    {
     "name": "stdout",
     "output_type": "stream",
     "text": [
      "ROC-AUC score of the model: 0.9999550384527482\n",
      "Accuracy of the model: 0.9999475478625754\n",
      "\n",
      "Classification report: \n",
      "              precision    recall  f1-score   support\n",
      "\n",
      "           0       1.00      1.00      1.00    209487\n",
      "           1       1.00      0.96      0.98       228\n",
      "\n",
      "    accuracy                           1.00    209715\n",
      "   macro avg       1.00      0.98      0.99    209715\n",
      "weighted avg       1.00      1.00      1.00    209715\n",
      "\n",
      "\n",
      "Confusion matrix: \n",
      "[[209486      1]\n",
      " [    10    218]]\n",
      "\n"
     ]
    }
   ],
   "source": [
    "#predictions\n",
    "ypred = clf_1_S.predict(xtest)\n",
    "ypred_prob = clf_1_S.predict_proba(xtest)\n",
    "evaluate_model(ytest,ypred,ypred_prob)"
   ]
  },
  {
   "cell_type": "code",
   "execution_count": 37,
   "id": "375757b8",
   "metadata": {},
   "outputs": [
    {
     "name": "stdout",
     "output_type": "stream",
     "text": [
      "Best Threshold=0.080000, G-Mean=0.997\n",
      "ROC-AUC score of the model: 0.9999550384527482\n",
      "Accuracy of the model: 0.9986362444269604\n",
      "\n",
      "Classification report: \n",
      "              precision    recall  f1-score   support\n",
      "\n",
      "           0       1.00      1.00      1.00    209487\n",
      "           1       0.44      0.99      0.61       228\n",
      "\n",
      "    accuracy                           1.00    209715\n",
      "   macro avg       0.72      0.99      0.81    209715\n",
      "weighted avg       1.00      1.00      1.00    209715\n",
      "\n",
      "\n",
      "Confusion matrix: \n",
      "[[209203    284]\n",
      " [     2    226]]\n",
      "\n"
     ]
    }
   ],
   "source": [
    "#threshold adjust\n",
    "\n",
    "# keep probabilities for the positive outcome only\n",
    "yhat = ypred_prob[:, 1]\n",
    "# calculate roc curves\n",
    "fpr, tpr, thresholds = roc_curve(ytest, yhat)\n",
    "\n",
    "gmeans = np.sqrt(tpr * (1-fpr))\n",
    "# locate the index of the largest g-mean\n",
    "ix = np.argmax(gmeans)\n",
    "print('Best Threshold=%f, G-Mean=%.3f' % (thresholds[ix], gmeans[ix]))\n",
    "\n",
    "ypred_new_threshold = (ypred_prob[:,1]>thresholds[ix]).astype(int)\n",
    "evaluate_model(ytest,ypred_new_threshold,ypred_prob)"
   ]
  },
  {
   "cell_type": "code",
   "execution_count": 38,
   "id": "45571501",
   "metadata": {},
   "outputs": [
    {
     "data": {
      "text/plain": [
       "0.9818677644568494"
      ]
     },
     "execution_count": 38,
     "metadata": {},
     "output_type": "execute_result"
    }
   ],
   "source": [
    "#F2 score\n",
    "fbeta_score(ytest, ypred, beta=2, average='macro')"
   ]
  },
  {
   "cell_type": "markdown",
   "id": "a9ed4b7e",
   "metadata": {},
   "source": [
    "podemos observar mejores resultados si no usamos el algorítmo SMOTE. No obstante, haré una última prueba con el siguiente modelo."
   ]
  },
  {
   "cell_type": "code",
   "execution_count": 39,
   "id": "1acd70bf",
   "metadata": {},
   "outputs": [
    {
     "name": "stdout",
     "output_type": "stream",
     "text": [
      "Best Threshold=0.050000, G-Mean=0.993\n",
      "ROC-AUC score of the model: 0.9975891698101989\n",
      "Accuracy of the model: 0.9970936747490642\n",
      "\n",
      "Classification report: \n",
      "              precision    recall  f1-score   support\n",
      "\n",
      "           0       1.00      1.00      1.00    837946\n",
      "           1       0.27      0.99      0.43       914\n",
      "\n",
      "    accuracy                           1.00    838860\n",
      "   macro avg       0.64      0.99      0.71    838860\n",
      "weighted avg       1.00      1.00      1.00    838860\n",
      "\n",
      "\n",
      "Confusion matrix: \n",
      "[[835521   2425]\n",
      " [    13    901]]\n",
      "\n"
     ]
    }
   ],
   "source": [
    "#check the overfiting\n",
    "ypred = clf_1_S.predict(xtrain)\n",
    "ypred_prob = clf_1_S.predict_proba(xtrain)\n",
    "\n",
    "# keep probabilities for the positive outcome only\n",
    "yhat = ypred_prob[:, 1]\n",
    "# calculate roc curves\n",
    "fpr, tpr, thresholds = roc_curve(ytrain, yhat)\n",
    "\n",
    "gmeans = np.sqrt(tpr * (1-fpr))\n",
    "# locate the index of the largest g-mean\n",
    "ix = np.argmax(gmeans)\n",
    "print('Best Threshold=%f, G-Mean=%.3f' % (thresholds[ix], gmeans[ix]))\n",
    "\n",
    "ypred_new_threshold = (ypred_prob[:,1]>thresholds[ix]).astype(int)\n",
    "evaluate_model(ytrain,ypred_new_threshold,ypred_prob)"
   ]
  },
  {
   "cell_type": "markdown",
   "id": "fc69226b",
   "metadata": {},
   "source": [
    "## XGBoost"
   ]
  },
  {
   "cell_type": "code",
   "execution_count": 40,
   "id": "25363076",
   "metadata": {},
   "outputs": [],
   "source": [
    "clf_2 = Pipeline(steps=[\n",
    "    ('preprocesador', preprocessor),\n",
    "    ('clasificador', XGBClassifier(n_jobs=-1, random_state=0))])"
   ]
  },
  {
   "cell_type": "code",
   "execution_count": 41,
   "id": "a527052d",
   "metadata": {},
   "outputs": [],
   "source": [
    "#Training\n",
    "#clf_2.fit(xtrain, ytrain)"
   ]
  },
  {
   "cell_type": "code",
   "execution_count": 42,
   "id": "b56313d7",
   "metadata": {},
   "outputs": [],
   "source": [
    "#keep model with pickle\n",
    "#with open('./datos/XGBoost.pickle', 'wb') as f:\n",
    "    #pickle.dump(clf_2, f)"
   ]
  },
  {
   "cell_type": "code",
   "execution_count": 43,
   "id": "9a4259c3",
   "metadata": {},
   "outputs": [],
   "source": [
    "#Skip fit and run from this cell\n",
    "with open('./datos/XGBoost.pickle', 'rb') as f:\n",
    "    clf_2 = pickle.load(f)"
   ]
  },
  {
   "cell_type": "code",
   "execution_count": 44,
   "id": "197abd2c",
   "metadata": {},
   "outputs": [
    {
     "name": "stdout",
     "output_type": "stream",
     "text": [
      "ROC-AUC score of the model: 0.9999672550128513\n",
      "Accuracy of the model: 0.9999475478625754\n",
      "\n",
      "Classification report: \n",
      "              precision    recall  f1-score   support\n",
      "\n",
      "           0       1.00      1.00      1.00    209487\n",
      "           1       1.00      0.95      0.98       228\n",
      "\n",
      "    accuracy                           1.00    209715\n",
      "   macro avg       1.00      0.98      0.99    209715\n",
      "weighted avg       1.00      1.00      1.00    209715\n",
      "\n",
      "\n",
      "Confusion matrix: \n",
      "[[209487      0]\n",
      " [    11    217]]\n",
      "\n"
     ]
    }
   ],
   "source": [
    "#predictions\n",
    "ypred = clf_2.predict(xtest)\n",
    "ypred_prob = clf_2.predict_proba(xtest)\n",
    "evaluate_model(ytest,ypred,ypred_prob)"
   ]
  },
  {
   "cell_type": "code",
   "execution_count": 45,
   "id": "020a0700",
   "metadata": {},
   "outputs": [
    {
     "name": "stdout",
     "output_type": "stream",
     "text": [
      "Best Threshold=0.001511, G-Mean=0.998\n",
      "ROC-AUC score of the model: 0.9999672550128513\n",
      "Accuracy of the model: 0.9954128221634122\n",
      "\n",
      "Classification report: \n",
      "              precision    recall  f1-score   support\n",
      "\n",
      "           0       1.00      1.00      1.00    209487\n",
      "           1       0.19      1.00      0.32       228\n",
      "\n",
      "    accuracy                           1.00    209715\n",
      "   macro avg       0.60      1.00      0.66    209715\n",
      "weighted avg       1.00      1.00      1.00    209715\n",
      "\n",
      "\n",
      "Confusion matrix: \n",
      "[[208526    961]\n",
      " [     1    227]]\n",
      "\n"
     ]
    }
   ],
   "source": [
    "#threshold adjust\n",
    "\n",
    "# keep probabilities for the positive outcome only\n",
    "yhat = ypred_prob[:, 1]\n",
    "# calculate roc curves\n",
    "fpr, tpr, thresholds = roc_curve(ytest, yhat)\n",
    "\n",
    "gmeans = np.sqrt(tpr * (1-fpr))\n",
    "# locate the index of the largest g-mean\n",
    "ix = np.argmax(gmeans)\n",
    "print('Best Threshold=%f, G-Mean=%.3f' % (thresholds[ix], gmeans[ix]))\n",
    "\n",
    "ypred_new_threshold = (ypred_prob[:,1]>thresholds[ix]).astype(int)\n",
    "evaluate_model(ytest,ypred_new_threshold,ypred_prob)"
   ]
  },
  {
   "cell_type": "code",
   "execution_count": 46,
   "id": "7ee3ed86",
   "metadata": {},
   "outputs": [
    {
     "data": {
      "text/plain": [
       "0.9805084780963368"
      ]
     },
     "execution_count": 46,
     "metadata": {},
     "output_type": "execute_result"
    }
   ],
   "source": [
    "#F2 score\n",
    "fbeta_score(ytest, ypred, beta=2, average='macro')"
   ]
  },
  {
   "cell_type": "code",
   "execution_count": 47,
   "id": "acda6aa8",
   "metadata": {},
   "outputs": [
    {
     "name": "stdout",
     "output_type": "stream",
     "text": [
      "Best Threshold=0.002403, G-Mean=0.993\n",
      "ROC-AUC score of the model: 0.9987324448365487\n",
      "Accuracy of the model: 0.9967658488901605\n",
      "\n",
      "Classification report: \n",
      "              precision    recall  f1-score   support\n",
      "\n",
      "           0       1.00      1.00      1.00    837946\n",
      "           1       0.25      0.99      0.40       914\n",
      "\n",
      "    accuracy                           1.00    838860\n",
      "   macro avg       0.63      0.99      0.70    838860\n",
      "weighted avg       1.00      1.00      1.00    838860\n",
      "\n",
      "\n",
      "Confusion matrix: \n",
      "[[835244   2702]\n",
      " [    11    903]]\n",
      "\n"
     ]
    }
   ],
   "source": [
    "#check the overfiting\n",
    "ypred = clf_2.predict(xtrain)\n",
    "ypred_prob = clf_2.predict_proba(xtrain)\n",
    "\n",
    "# keep probabilities for the positive outcome only\n",
    "yhat = ypred_prob[:, 1]\n",
    "# calculate roc curves\n",
    "fpr, tpr, thresholds = roc_curve(ytrain, yhat)\n",
    "\n",
    "gmeans = np.sqrt(tpr * (1-fpr))\n",
    "# locate the index of the largest g-mean\n",
    "ix = np.argmax(gmeans)\n",
    "print('Best Threshold=%f, G-Mean=%.3f' % (thresholds[ix], gmeans[ix]))\n",
    "\n",
    "ypred_new_threshold = (ypred_prob[:,1]>thresholds[ix]).astype(int)\n",
    "evaluate_model(ytrain,ypred_new_threshold,ypred_prob)"
   ]
  },
  {
   "cell_type": "markdown",
   "id": "86ae8f90",
   "metadata": {},
   "source": [
    "**Modelo XGBoost con Smote**"
   ]
  },
  {
   "cell_type": "code",
   "execution_count": 48,
   "id": "60b1ca91",
   "metadata": {},
   "outputs": [],
   "source": [
    "clf_2_S = Pipeline(steps=[\n",
    "    ('preprocesador', preprocessor),\n",
    "    ('smote', SMOTE(sampling_strategy='auto', n_jobs=-1)),\n",
    "    ('clasificador', XGBClassifier(n_jobs=-1, random_state=0))])\n"
   ]
  },
  {
   "cell_type": "code",
   "execution_count": 49,
   "id": "a9b68a03",
   "metadata": {},
   "outputs": [],
   "source": [
    "#Training\n",
    "#clf_2_S.fit(xtrain, ytrain)"
   ]
  },
  {
   "cell_type": "code",
   "execution_count": 50,
   "id": "d0a5db43",
   "metadata": {},
   "outputs": [],
   "source": [
    "#keep model with pickle\n",
    "#with open('./datos/XGBoostSMOTE.pickle', 'wb') as f:\n",
    "    #pickle.dump(clf_2_S, f)"
   ]
  },
  {
   "cell_type": "code",
   "execution_count": 51,
   "id": "676be42f",
   "metadata": {},
   "outputs": [],
   "source": [
    "#Skip fit and run from this cell\n",
    "with open('./datos/XGBoostSMOTE.pickle', 'rb') as f:\n",
    "    clf_2_S = pickle.load(f)"
   ]
  },
  {
   "cell_type": "code",
   "execution_count": 52,
   "id": "d55d725c",
   "metadata": {},
   "outputs": [
    {
     "name": "stdout",
     "output_type": "stream",
     "text": [
      "ROC-AUC score of the model: 0.9763121213651493\n",
      "Accuracy of the model: 0.9998712538445033\n",
      "\n",
      "Classification report: \n",
      "              precision    recall  f1-score   support\n",
      "\n",
      "           0       1.00      1.00      1.00    209487\n",
      "           1       0.97      0.91      0.94       228\n",
      "\n",
      "    accuracy                           1.00    209715\n",
      "   macro avg       0.98      0.96      0.97    209715\n",
      "weighted avg       1.00      1.00      1.00    209715\n",
      "\n",
      "\n",
      "Confusion matrix: \n",
      "[[209480      7]\n",
      " [    20    208]]\n",
      "\n"
     ]
    }
   ],
   "source": [
    "#predictions\n",
    "ypred = clf_2_S.predict(xtest)\n",
    "ypred_prob = clf.predict_proba(xtest)\n",
    "evaluate_model(ytest,ypred,ypred_prob)"
   ]
  },
  {
   "cell_type": "code",
   "execution_count": 53,
   "id": "172bc7dd",
   "metadata": {},
   "outputs": [
    {
     "name": "stdout",
     "output_type": "stream",
     "text": [
      "Best Threshold=0.001520, G-Mean=0.936\n",
      "ROC-AUC score of the model: 0.9763121213651493\n",
      "Accuracy of the model: 0.929256371742603\n",
      "\n",
      "Classification report: \n",
      "              precision    recall  f1-score   support\n",
      "\n",
      "           0       1.00      0.93      0.96    209487\n",
      "           1       0.01      0.94      0.03       228\n",
      "\n",
      "    accuracy                           0.93    209715\n",
      "   macro avg       0.51      0.93      0.50    209715\n",
      "weighted avg       1.00      0.93      0.96    209715\n",
      "\n",
      "\n",
      "Confusion matrix: \n",
      "[[194665  14822]\n",
      " [    14    214]]\n",
      "\n"
     ]
    }
   ],
   "source": [
    "#threshold adjust\n",
    "\n",
    "# keep probabilities for the positive outcome only\n",
    "yhat = ypred_prob[:, 1]\n",
    "# calculate roc curves\n",
    "fpr, tpr, thresholds = roc_curve(ytest, yhat)\n",
    "\n",
    "gmeans = np.sqrt(tpr * (1-fpr))\n",
    "# locate the index of the largest g-mean\n",
    "ix = np.argmax(gmeans)\n",
    "print('Best Threshold=%f, G-Mean=%.3f' % (thresholds[ix], gmeans[ix]))\n",
    "\n",
    "ypred_new_threshold = (ypred_prob[:,1]>thresholds[ix]).astype(int)\n",
    "evaluate_model(ytest,ypred_new_threshold,ypred_prob)"
   ]
  },
  {
   "cell_type": "code",
   "execution_count": 54,
   "id": "a2d7f582",
   "metadata": {},
   "outputs": [
    {
     "data": {
      "text/plain": [
       "0.9613790392532321"
      ]
     },
     "execution_count": 54,
     "metadata": {},
     "output_type": "execute_result"
    }
   ],
   "source": [
    "#F2 score\n",
    "fbeta_score(ytest, ypred, beta=2, average='macro')"
   ]
  },
  {
   "cell_type": "markdown",
   "id": "565e7681",
   "metadata": {},
   "source": [
    "Tras observar los resultados como son mejores sin usar el SMOTE decido no probarlo con el resto de modelos"
   ]
  },
  {
   "cell_type": "code",
   "execution_count": 55,
   "id": "a5cfeaf6",
   "metadata": {},
   "outputs": [
    {
     "name": "stdout",
     "output_type": "stream",
     "text": [
      "Best Threshold=0.015297, G-Mean=0.989\n",
      "ROC-AUC score of the model: 0.9974634599501384\n",
      "Accuracy of the model: 0.9919748229740362\n",
      "\n",
      "Classification report: \n",
      "              precision    recall  f1-score   support\n",
      "\n",
      "           0       1.00      0.99      1.00    837946\n",
      "           1       0.12      0.98      0.21       914\n",
      "\n",
      "    accuracy                           0.99    838860\n",
      "   macro avg       0.56      0.99      0.60    838860\n",
      "weighted avg       1.00      0.99      1.00    838860\n",
      "\n",
      "\n",
      "Confusion matrix: \n",
      "[[831228   6718]\n",
      " [    14    900]]\n",
      "\n"
     ]
    }
   ],
   "source": [
    "#check the overfiting\n",
    "ypred = clf_2_S.predict(xtrain)\n",
    "ypred_prob = clf_2_S.predict_proba(xtrain)\n",
    "\n",
    "# keep probabilities for the positive outcome only\n",
    "yhat = ypred_prob[:, 1]\n",
    "# calculate roc curves\n",
    "fpr, tpr, thresholds = roc_curve(ytrain, yhat)\n",
    "\n",
    "gmeans = np.sqrt(tpr * (1-fpr))\n",
    "# locate the index of the largest g-mean\n",
    "ix = np.argmax(gmeans)\n",
    "print('Best Threshold=%f, G-Mean=%.3f' % (thresholds[ix], gmeans[ix]))\n",
    "\n",
    "ypred_new_threshold = (ypred_prob[:,1]>thresholds[ix]).astype(int)\n",
    "evaluate_model(ytrain,ypred_new_threshold,ypred_prob)"
   ]
  },
  {
   "cell_type": "markdown",
   "id": "e7fd778a",
   "metadata": {},
   "source": [
    "### Modelo LightGBM"
   ]
  },
  {
   "cell_type": "code",
   "execution_count": 56,
   "id": "f87cea80",
   "metadata": {},
   "outputs": [],
   "source": [
    "clf_3 = Pipeline(steps=[\n",
    "    ('preprocesador', preprocessor),\n",
    "    ('clasificador', lgb.LGBMClassifier(n_jobs=-1, random_state=0))])"
   ]
  },
  {
   "cell_type": "code",
   "execution_count": 57,
   "id": "46f7aeed",
   "metadata": {},
   "outputs": [],
   "source": [
    "#Training\n",
    "#clf_3.fit(xtrain, ytrain)"
   ]
  },
  {
   "cell_type": "code",
   "execution_count": 58,
   "id": "f78b0f28",
   "metadata": {},
   "outputs": [],
   "source": [
    "#keep model with pickle\n",
    "#with open('./datos/LightGBM.pickle', 'wb') as f:\n",
    "    #pickle.dump(clf_3, f)"
   ]
  },
  {
   "cell_type": "code",
   "execution_count": 59,
   "id": "3430f747",
   "metadata": {},
   "outputs": [],
   "source": [
    "#Skip fit and run from this cell\n",
    "with open('./datos/LightGBM.pickle', 'rb') as f:\n",
    "    clf_3 = pickle.load(f)"
   ]
  },
  {
   "cell_type": "code",
   "execution_count": 60,
   "id": "34541b38",
   "metadata": {},
   "outputs": [
    {
     "name": "stdout",
     "output_type": "stream",
     "text": [
      "ROC-AUC score of the model: 0.6673520397656465\n",
      "Accuracy of the model: 0.9977350213384831\n",
      "\n",
      "Classification report: \n",
      "              precision    recall  f1-score   support\n",
      "\n",
      "           0       1.00      1.00      1.00    209487\n",
      "           1       0.23      0.46      0.31       228\n",
      "\n",
      "    accuracy                           1.00    209715\n",
      "   macro avg       0.61      0.73      0.65    209715\n",
      "weighted avg       1.00      1.00      1.00    209715\n",
      "\n",
      "\n",
      "Confusion matrix: \n",
      "[[209135    352]\n",
      " [   123    105]]\n",
      "\n"
     ]
    }
   ],
   "source": [
    "#predictions\n",
    "ypred = clf_3.predict(xtest)\n",
    "ypred_prob = clf_3.predict_proba(xtest)\n",
    "evaluate_model(ytest,ypred,ypred_prob)"
   ]
  },
  {
   "cell_type": "code",
   "execution_count": 61,
   "id": "d0c15363",
   "metadata": {},
   "outputs": [
    {
     "name": "stdout",
     "output_type": "stream",
     "text": [
      "Best Threshold=0.000116, G-Mean=0.684\n",
      "ROC-AUC score of the model: 0.6673520397656465\n",
      "Accuracy of the model: 0.9968004196170994\n",
      "\n",
      "Classification report: \n",
      "              precision    recall  f1-score   support\n",
      "\n",
      "           0       1.00      1.00      1.00    209487\n",
      "           1       0.16      0.46      0.24       228\n",
      "\n",
      "    accuracy                           1.00    209715\n",
      "   macro avg       0.58      0.73      0.62    209715\n",
      "weighted avg       1.00      1.00      1.00    209715\n",
      "\n",
      "\n",
      "Confusion matrix: \n",
      "[[208938    549]\n",
      " [   122    106]]\n",
      "\n"
     ]
    }
   ],
   "source": [
    "#threshold adjust\n",
    "\n",
    "# keep probabilities for the positive outcome only\n",
    "yhat = ypred_prob[:, 1]\n",
    "# calculate roc curves\n",
    "fpr, tpr, thresholds = roc_curve(ytest, yhat)\n",
    "\n",
    "gmeans = np.sqrt(tpr * (1-fpr))\n",
    "# locate the index of the largest g-mean\n",
    "ix = np.argmax(gmeans)\n",
    "print('Best Threshold=%f, G-Mean=%.3f' % (thresholds[ix], gmeans[ix]))\n",
    "\n",
    "ypred_new_threshold = (ypred_prob[:,1]>thresholds[ix]).astype(int)\n",
    "evaluate_model(ytest,ypred_new_threshold,ypred_prob)"
   ]
  },
  {
   "cell_type": "code",
   "execution_count": 62,
   "id": "ce3ed89d",
   "metadata": {},
   "outputs": [
    {
     "data": {
      "text/plain": [
       "0.6910148070979458"
      ]
     },
     "execution_count": 62,
     "metadata": {},
     "output_type": "execute_result"
    }
   ],
   "source": [
    "#F2 score\n",
    "fbeta_score(ytest, ypred, beta=2, average='macro')"
   ]
  },
  {
   "cell_type": "code",
   "execution_count": 63,
   "id": "2dd39d4c",
   "metadata": {},
   "outputs": [
    {
     "name": "stdout",
     "output_type": "stream",
     "text": [
      "Best Threshold=0.000001, G-Mean=0.707\n",
      "ROC-AUC score of the model: 0.6899348152613314\n",
      "Accuracy of the model: 0.9893402951624825\n",
      "\n",
      "Classification report: \n",
      "              precision    recall  f1-score   support\n",
      "\n",
      "           0       1.00      0.99      0.99    837946\n",
      "           1       0.05      0.50      0.09       914\n",
      "\n",
      "    accuracy                           0.99    838860\n",
      "   macro avg       0.53      0.75      0.54    838860\n",
      "weighted avg       1.00      0.99      0.99    838860\n",
      "\n",
      "\n",
      "Confusion matrix: \n",
      "[[829458   8488]\n",
      " [   454    460]]\n",
      "\n"
     ]
    }
   ],
   "source": [
    "#check the overfitting\n",
    "\n",
    "ypred = clf_3.predict(xtrain)\n",
    "ypred_prob = clf_3.predict_proba(xtrain)\n",
    "\n",
    "# keep probabilities for the positive outcome only\n",
    "yhat = ypred_prob[:, 1]\n",
    "# calculate roc curves\n",
    "fpr, tpr, thresholds = roc_curve(ytrain, yhat)\n",
    "\n",
    "gmeans = np.sqrt(tpr * (1-fpr))\n",
    "# locate the index of the largest g-mean\n",
    "ix = np.argmax(gmeans)\n",
    "print('Best Threshold=%f, G-Mean=%.3f' % (thresholds[ix], gmeans[ix]))\n",
    "\n",
    "ypred_new_threshold = (ypred_prob[:,1]>thresholds[ix]).astype(int)\n",
    "evaluate_model(ytrain,ypred_new_threshold,ypred_prob)"
   ]
  },
  {
   "cell_type": "markdown",
   "id": "2521463d",
   "metadata": {},
   "source": [
    "### Modelo SVM"
   ]
  },
  {
   "cell_type": "code",
   "execution_count": 64,
   "id": "e168e93e",
   "metadata": {},
   "outputs": [],
   "source": [
    "clf_4 = Pipeline(steps=[\n",
    "    ('preprocesador', preprocessor),\n",
    "    ('clasificador', SVC(random_state=0, probability=True))])"
   ]
  },
  {
   "cell_type": "code",
   "execution_count": 65,
   "id": "be163429",
   "metadata": {},
   "outputs": [],
   "source": [
    "#Training\n",
    "#clf_4.fit(xtrain, ytrain)"
   ]
  },
  {
   "cell_type": "code",
   "execution_count": 66,
   "id": "bbad2025",
   "metadata": {},
   "outputs": [],
   "source": [
    "#keep model with pickle\n",
    "#with open('./datos/SVM.pickle', 'wb') as f:\n",
    "    #pickle.dump(clf_4, f)"
   ]
  },
  {
   "cell_type": "code",
   "execution_count": 67,
   "id": "c69745b7",
   "metadata": {},
   "outputs": [],
   "source": [
    "#Skip fit and run from this cell\n",
    "with open('./datos/SVM.pickle', 'rb') as f:\n",
    "    clf_4 = pickle.load(f)"
   ]
  },
  {
   "cell_type": "code",
   "execution_count": 68,
   "id": "d8500249",
   "metadata": {},
   "outputs": [
    {
     "name": "stdout",
     "output_type": "stream",
     "text": [
      "ROC-AUC score of the model: 0.9022037878831655\n",
      "Accuracy of the model: 0.9992609016999261\n",
      "\n",
      "Classification report: \n",
      "              precision    recall  f1-score   support\n",
      "\n",
      "           0       1.00      1.00      1.00    209487\n",
      "           1       1.00      0.32      0.49       228\n",
      "\n",
      "    accuracy                           1.00    209715\n",
      "   macro avg       1.00      0.66      0.74    209715\n",
      "weighted avg       1.00      1.00      1.00    209715\n",
      "\n",
      "\n",
      "Confusion matrix: \n",
      "[[209487      0]\n",
      " [   155     73]]\n",
      "\n"
     ]
    }
   ],
   "source": [
    "#predictions\n",
    "ypred = clf_4.predict(xtest)\n",
    "ypred_prob = clf_4.predict_proba(xtest)\n",
    "evaluate_model(ytest,ypred,ypred_prob)"
   ]
  },
  {
   "cell_type": "code",
   "execution_count": 69,
   "id": "7194f967",
   "metadata": {},
   "outputs": [
    {
     "name": "stdout",
     "output_type": "stream",
     "text": [
      "Best Threshold=0.003078, G-Mean=0.854\n",
      "ROC-AUC score of the model: 0.9022037878831655\n",
      "Accuracy of the model: 0.9899101161099587\n",
      "\n",
      "Classification report: \n",
      "              precision    recall  f1-score   support\n",
      "\n",
      "           0       1.00      0.99      0.99    209487\n",
      "           1       0.08      0.73      0.14       228\n",
      "\n",
      "    accuracy                           0.99    209715\n",
      "   macro avg       0.54      0.86      0.57    209715\n",
      "weighted avg       1.00      0.99      0.99    209715\n",
      "\n",
      "\n",
      "Confusion matrix: \n",
      "[[207432   2055]\n",
      " [    61    167]]\n",
      "\n"
     ]
    }
   ],
   "source": [
    "#threshold adjust\n",
    "\n",
    "# keep probabilities for the positive outcome only\n",
    "yhat = ypred_prob[:, 1]\n",
    "# calculate roc curves\n",
    "fpr, tpr, thresholds = roc_curve(ytest, yhat)\n",
    "\n",
    "gmeans = np.sqrt(tpr * (1-fpr))\n",
    "# locate the index of the largest g-mean\n",
    "ix = np.argmax(gmeans)\n",
    "print('Best Threshold=%f, G-Mean=%.3f' % (thresholds[ix], gmeans[ix]))\n",
    "\n",
    "ypred_new_threshold = (ypred_prob[:,1]>thresholds[ix]).astype(int)\n",
    "evaluate_model(ytest,ypred_new_threshold,ypred_prob)"
   ]
  },
  {
   "cell_type": "code",
   "execution_count": 70,
   "id": "c21d476e",
   "metadata": {},
   "outputs": [
    {
     "data": {
      "text/plain": [
       "0.6852052084932867"
      ]
     },
     "execution_count": 70,
     "metadata": {},
     "output_type": "execute_result"
    }
   ],
   "source": [
    "#F2 score\n",
    "fbeta_score(ytest, ypred, beta=2, average='macro')"
   ]
  },
  {
   "cell_type": "code",
   "execution_count": 71,
   "id": "68b67360",
   "metadata": {},
   "outputs": [
    {
     "name": "stdout",
     "output_type": "stream",
     "text": [
      "Best Threshold=0.002233, G-Mean=0.880\n",
      "ROC-AUC score of the model: 0.9224268405016892\n",
      "Accuracy of the model: 0.9750423193381494\n",
      "\n",
      "Classification report: \n",
      "              precision    recall  f1-score   support\n",
      "\n",
      "           0       1.00      0.98      0.99    837946\n",
      "           1       0.03      0.79      0.06       914\n",
      "\n",
      "    accuracy                           0.98    838860\n",
      "   macro avg       0.52      0.88      0.53    838860\n",
      "weighted avg       1.00      0.98      0.99    838860\n",
      "\n",
      "\n",
      "Confusion matrix: \n",
      "[[817200  20746]\n",
      " [   190    724]]\n",
      "\n"
     ]
    }
   ],
   "source": [
    "#check the overfitting\n",
    "\n",
    "ypred = clf_4.predict(xtrain)\n",
    "ypred_prob = clf_4.predict_proba(xtrain)\n",
    "\n",
    "# keep probabilities for the positive outcome only\n",
    "yhat = ypred_prob[:, 1]\n",
    "# calculate roc curves\n",
    "fpr, tpr, thresholds = roc_curve(ytrain, yhat)\n",
    "\n",
    "gmeans = np.sqrt(tpr * (1-fpr))\n",
    "# locate the index of the largest g-mean\n",
    "ix = np.argmax(gmeans)\n",
    "print('Best Threshold=%f, G-Mean=%.3f' % (thresholds[ix], gmeans[ix]))\n",
    "\n",
    "ypred_new_threshold = (ypred_prob[:,1]>thresholds[ix]).astype(int)\n",
    "evaluate_model(ytrain,ypred_new_threshold,ypred_prob)"
   ]
  },
  {
   "cell_type": "markdown",
   "id": "6479106d",
   "metadata": {},
   "source": [
    "### Modelo ADA Boost"
   ]
  },
  {
   "cell_type": "code",
   "execution_count": 72,
   "id": "21bd25da",
   "metadata": {},
   "outputs": [],
   "source": [
    "clf_5 = Pipeline(steps=[\n",
    "    ('preprocesador', preprocessor),\n",
    "    ('clasificador', AdaBoostClassifier(n_estimators=100, random_state=0))])"
   ]
  },
  {
   "cell_type": "code",
   "execution_count": 73,
   "id": "47b41b63",
   "metadata": {},
   "outputs": [],
   "source": [
    "#Training\n",
    "#clf_5.fit(xtrain, ytrain)"
   ]
  },
  {
   "cell_type": "code",
   "execution_count": 74,
   "id": "12f63040",
   "metadata": {},
   "outputs": [],
   "source": [
    "#keep model with pickle\n",
    "#with open('./datos/ADABoost.pickle', 'wb') as f:\n",
    "    #pickle.dump(clf_5, f)"
   ]
  },
  {
   "cell_type": "code",
   "execution_count": 75,
   "id": "1422b79d",
   "metadata": {},
   "outputs": [],
   "source": [
    "#Skip fit and run from this cell\n",
    "with open('./datos/ADABoost.pickle', 'rb') as f:\n",
    "    clf_5 = pickle.load(f)"
   ]
  },
  {
   "cell_type": "code",
   "execution_count": 76,
   "id": "6683ecb0",
   "metadata": {},
   "outputs": [
    {
     "name": "stdout",
     "output_type": "stream",
     "text": [
      "ROC-AUC score of the model: 0.9971091243027348\n",
      "Accuracy of the model: 0.9995136256347901\n",
      "\n",
      "Classification report: \n",
      "              precision    recall  f1-score   support\n",
      "\n",
      "           0       1.00      1.00      1.00    209487\n",
      "           1       0.93      0.60      0.73       228\n",
      "\n",
      "    accuracy                           1.00    209715\n",
      "   macro avg       0.96      0.80      0.86    209715\n",
      "weighted avg       1.00      1.00      1.00    209715\n",
      "\n",
      "\n",
      "Confusion matrix: \n",
      "[[209476     11]\n",
      " [    91    137]]\n",
      "\n"
     ]
    }
   ],
   "source": [
    "#predictions\n",
    "ypred = clf_5.predict(xtest)\n",
    "ypred_prob = clf_5.predict_proba(xtest)\n",
    "evaluate_model(ytest,ypred,ypred_prob)"
   ]
  },
  {
   "cell_type": "code",
   "execution_count": 77,
   "id": "84d12304",
   "metadata": {},
   "outputs": [
    {
     "name": "stdout",
     "output_type": "stream",
     "text": [
      "Best Threshold=0.482597, G-Mean=0.975\n",
      "ROC-AUC score of the model: 0.9971091243027348\n",
      "Accuracy of the model: 0.9718284338268602\n",
      "\n",
      "Classification report: \n",
      "              precision    recall  f1-score   support\n",
      "\n",
      "           0       1.00      0.97      0.99    209487\n",
      "           1       0.04      0.97      0.07       228\n",
      "\n",
      "    accuracy                           0.97    209715\n",
      "   macro avg       0.52      0.97      0.53    209715\n",
      "weighted avg       1.00      0.97      0.98    209715\n",
      "\n",
      "\n",
      "Confusion matrix: \n",
      "[[203585   5902]\n",
      " [     6    222]]\n",
      "\n"
     ]
    }
   ],
   "source": [
    "#threshold adjust\n",
    "\n",
    "# keep probabilities for the positive outcome only\n",
    "yhat = ypred_prob[:, 1]\n",
    "# calculate roc curves\n",
    "fpr, tpr, thresholds = roc_curve(ytest, yhat)\n",
    "\n",
    "gmeans = np.sqrt(tpr * (1-fpr))\n",
    "# locate the index of the largest g-mean\n",
    "ix = np.argmax(gmeans)\n",
    "print('Best Threshold=%f, G-Mean=%.3f' % (thresholds[ix], gmeans[ix]))\n",
    "\n",
    "ypred_new_threshold = (ypred_prob[:,1]>thresholds[ix]).astype(int)\n",
    "evaluate_model(ytest,ypred_new_threshold,ypred_prob)"
   ]
  },
  {
   "cell_type": "code",
   "execution_count": 78,
   "id": "82abb9d8",
   "metadata": {},
   "outputs": [
    {
     "data": {
      "text/plain": [
       "0.8230487693291013"
      ]
     },
     "execution_count": 78,
     "metadata": {},
     "output_type": "execute_result"
    }
   ],
   "source": [
    "#F2 score\n",
    "fbeta_score(ytest, ypred, beta=2, average='macro')"
   ]
  },
  {
   "cell_type": "code",
   "execution_count": 79,
   "id": "4edcf6d0",
   "metadata": {},
   "outputs": [
    {
     "name": "stdout",
     "output_type": "stream",
     "text": [
      "Best Threshold=0.482907, G-Mean=0.968\n",
      "ROC-AUC score of the model: 0.9957325694404952\n",
      "Accuracy of the model: 0.9743818992442124\n",
      "\n",
      "Classification report: \n",
      "              precision    recall  f1-score   support\n",
      "\n",
      "           0       1.00      0.97      0.99    837946\n",
      "           1       0.04      0.96      0.08       914\n",
      "\n",
      "    accuracy                           0.97    838860\n",
      "   macro avg       0.52      0.97      0.53    838860\n",
      "weighted avg       1.00      0.97      0.99    838860\n",
      "\n",
      "\n",
      "Confusion matrix: \n",
      "[[816492  21454]\n",
      " [    36    878]]\n",
      "\n"
     ]
    }
   ],
   "source": [
    "#check the overfitting\n",
    "\n",
    "ypred = clf_5.predict(xtrain)\n",
    "ypred_prob = clf_5.predict_proba(xtrain)\n",
    "\n",
    "# keep probabilities for the positive outcome only\n",
    "yhat = ypred_prob[:, 1]\n",
    "# calculate roc curves\n",
    "fpr, tpr, thresholds = roc_curve(ytrain, yhat)\n",
    "\n",
    "gmeans = np.sqrt(tpr * (1-fpr))\n",
    "# locate the index of the largest g-mean\n",
    "ix = np.argmax(gmeans)\n",
    "print('Best Threshold=%f, G-Mean=%.3f' % (thresholds[ix], gmeans[ix]))\n",
    "\n",
    "ypred_new_threshold = (ypred_prob[:,1]>thresholds[ix]).astype(int)\n",
    "evaluate_model(ytrain,ypred_new_threshold,ypred_prob)"
   ]
  },
  {
   "cell_type": "markdown",
   "id": "b7cf8043",
   "metadata": {},
   "source": [
    "### Modelo CatBoost"
   ]
  },
  {
   "cell_type": "code",
   "execution_count": 80,
   "id": "1a39d0f6",
   "metadata": {},
   "outputs": [],
   "source": [
    "clf_7 = Pipeline(steps=[\n",
    "    ('preprocesador', preprocessor),\n",
    "    ('clasificador', CatBoostClassifier(random_state=0, task_type=\"GPU\"))])"
   ]
  },
  {
   "cell_type": "code",
   "execution_count": 81,
   "id": "1e8c57c2",
   "metadata": {},
   "outputs": [],
   "source": [
    "#Training\n",
    "#clf_7.fit(xtrain, ytrain)"
   ]
  },
  {
   "cell_type": "code",
   "execution_count": 82,
   "id": "b7a76a83",
   "metadata": {},
   "outputs": [],
   "source": [
    "#keep model with pickle\n",
    "#with open('./datos/catboost.pickle', 'wb') as f:\n",
    "    #pickle.dump(clf_7, f)"
   ]
  },
  {
   "cell_type": "code",
   "execution_count": 83,
   "id": "dd1e4d9a",
   "metadata": {},
   "outputs": [],
   "source": [
    "#Skip fit and run from this cell\n",
    "with open('./datos/catboost.pickle', 'rb') as f:\n",
    "    clf_7 = pickle.load(f)"
   ]
  },
  {
   "cell_type": "code",
   "execution_count": 84,
   "id": "c845c6db",
   "metadata": {},
   "outputs": [
    {
     "name": "stdout",
     "output_type": "stream",
     "text": [
      "ROC-AUC score of the model: 0.999371417679563\n",
      "Accuracy of the model: 0.9998283384593377\n",
      "\n",
      "Classification report: \n",
      "              precision    recall  f1-score   support\n",
      "\n",
      "           0       1.00      1.00      1.00    209487\n",
      "           1       1.00      0.84      0.91       228\n",
      "\n",
      "    accuracy                           1.00    209715\n",
      "   macro avg       1.00      0.92      0.96    209715\n",
      "weighted avg       1.00      1.00      1.00    209715\n",
      "\n",
      "\n",
      "Confusion matrix: \n",
      "[[209487      0]\n",
      " [    36    192]]\n",
      "\n"
     ]
    }
   ],
   "source": [
    "#predictions\n",
    "ypred = clf_7.predict(xtest)\n",
    "ypred_prob = clf_7.predict_proba(xtest)\n",
    "evaluate_model(ytest,ypred,ypred_prob)"
   ]
  },
  {
   "cell_type": "code",
   "execution_count": 85,
   "id": "d19604fa",
   "metadata": {},
   "outputs": [
    {
     "name": "stdout",
     "output_type": "stream",
     "text": [
      "Best Threshold=0.002027, G-Mean=0.989\n",
      "ROC-AUC score of the model: 0.999371417679563\n",
      "Accuracy of the model: 0.9862909186276614\n",
      "\n",
      "Classification report: \n",
      "              precision    recall  f1-score   support\n",
      "\n",
      "           0       1.00      0.99      0.99    209487\n",
      "           1       0.07      0.99      0.14       228\n",
      "\n",
      "    accuracy                           0.99    209715\n",
      "   macro avg       0.54      0.99      0.56    209715\n",
      "weighted avg       1.00      0.99      0.99    209715\n",
      "\n",
      "\n",
      "Confusion matrix: \n",
      "[[206615   2872]\n",
      " [     3    225]]\n",
      "\n"
     ]
    }
   ],
   "source": [
    "#threshold adjust\n",
    "\n",
    "# keep probabilities for the positive outcome only\n",
    "yhat = ypred_prob[:, 1]\n",
    "# calculate roc curves\n",
    "fpr, tpr, thresholds = roc_curve(ytest, yhat)\n",
    "\n",
    "gmeans = np.sqrt(tpr * (1-fpr))\n",
    "# locate the index of the largest g-mean\n",
    "ix = np.argmax(gmeans)\n",
    "print('Best Threshold=%f, G-Mean=%.3f' % (thresholds[ix], gmeans[ix]))\n",
    "\n",
    "ypred_new_threshold = (ypred_prob[:,1]>thresholds[ix]).astype(int)\n",
    "evaluate_model(ytest,ypred_new_threshold,ypred_prob)"
   ]
  },
  {
   "cell_type": "code",
   "execution_count": 86,
   "id": "b89d982f",
   "metadata": {},
   "outputs": [
    {
     "data": {
      "text/plain": [
       "0.9347654244490238"
      ]
     },
     "execution_count": 86,
     "metadata": {},
     "output_type": "execute_result"
    }
   ],
   "source": [
    "#F2 score\n",
    "fbeta_score(ytest, ypred, beta=2, average='macro')"
   ]
  },
  {
   "cell_type": "code",
   "execution_count": 87,
   "id": "d21927ba",
   "metadata": {},
   "outputs": [
    {
     "name": "stdout",
     "output_type": "stream",
     "text": [
      "Best Threshold=0.003693, G-Mean=0.987\n",
      "ROC-AUC score of the model: 0.9975156272114192\n",
      "Accuracy of the model: 0.9923264907135875\n",
      "\n",
      "Classification report: \n",
      "              precision    recall  f1-score   support\n",
      "\n",
      "           0       1.00      0.99      1.00    837946\n",
      "           1       0.12      0.98      0.22       914\n",
      "\n",
      "    accuracy                           0.99    838860\n",
      "   macro avg       0.56      0.99      0.61    838860\n",
      "weighted avg       1.00      0.99      1.00    838860\n",
      "\n",
      "\n",
      "Confusion matrix: \n",
      "[[831526   6420]\n",
      " [    17    897]]\n",
      "\n"
     ]
    }
   ],
   "source": [
    "#check the overfitting\n",
    "\n",
    "ypred = clf_7.predict(xtrain)\n",
    "ypred_prob = clf_7.predict_proba(xtrain)\n",
    "\n",
    "# keep probabilities for the positive outcome only\n",
    "yhat = ypred_prob[:, 1]\n",
    "# calculate roc curves\n",
    "fpr, tpr, thresholds = roc_curve(ytrain, yhat)\n",
    "\n",
    "gmeans = np.sqrt(tpr * (1-fpr))\n",
    "# locate the index of the largest g-mean\n",
    "ix = np.argmax(gmeans)\n",
    "print('Best Threshold=%f, G-Mean=%.3f' % (thresholds[ix], gmeans[ix]))\n",
    "\n",
    "ypred_new_threshold = (ypred_prob[:,1]>thresholds[ix]).astype(int)\n",
    "evaluate_model(ytrain,ypred_new_threshold,ypred_prob)"
   ]
  },
  {
   "cell_type": "markdown",
   "id": "cce52408",
   "metadata": {},
   "source": [
    "### Modelo GLM"
   ]
  },
  {
   "cell_type": "code",
   "execution_count": 88,
   "id": "84ada279",
   "metadata": {},
   "outputs": [],
   "source": [
    "glm = Pipeline(steps=[\n",
    "    ('preprocesador', preprocessor),\n",
    "    ('clasificador', LinearRegression())])"
   ]
  },
  {
   "cell_type": "code",
   "execution_count": 89,
   "id": "a7609fa1",
   "metadata": {},
   "outputs": [],
   "source": [
    "#glm.fit(xtrain, ytrain)"
   ]
  },
  {
   "cell_type": "code",
   "execution_count": 90,
   "id": "6f7992c8",
   "metadata": {},
   "outputs": [],
   "source": [
    "# keep model with pickle\n",
    "#with open('./datos/glm.pickle', 'wb') as f:\n",
    "    #pickle.dump(glm, f)"
   ]
  },
  {
   "cell_type": "code",
   "execution_count": 91,
   "id": "ab0481a8",
   "metadata": {},
   "outputs": [],
   "source": [
    "#Skip fit and run from this cell\n",
    "with open('./datos/glm.pickle', 'rb') as f:\n",
    "    glm = pickle.load(f)"
   ]
  },
  {
   "cell_type": "code",
   "execution_count": 92,
   "id": "27758094",
   "metadata": {},
   "outputs": [
    {
     "data": {
      "text/plain": [
       "0.000941666669492876"
      ]
     },
     "execution_count": 92,
     "metadata": {},
     "output_type": "execute_result"
    }
   ],
   "source": [
    "#predictions\n",
    "ypred = glm.predict(xtest)\n",
    "mean_squared_error(ytest, ypred)"
   ]
  }
 ],
 "metadata": {
  "kernelspec": {
   "display_name": "aprendizaje",
   "language": "python",
   "name": "aprendizaje"
  },
  "language_info": {
   "codemirror_mode": {
    "name": "ipython",
    "version": 3
   },
   "file_extension": ".py",
   "mimetype": "text/x-python",
   "name": "python",
   "nbconvert_exporter": "python",
   "pygments_lexer": "ipython3",
   "version": "3.9.15"
  }
 },
 "nbformat": 4,
 "nbformat_minor": 5
}
